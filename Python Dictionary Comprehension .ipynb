{
 "cells": [
  {
   "cell_type": "markdown",
   "id": "b5fabd6b",
   "metadata": {
    "id": "b5fabd6b"
   },
   "source": [
    "<a href=\"https://www.viharatech.com\"><img src=\"https://miro.medium.com/v2/resize:fit:828/format:webp/1*on2Bpj6A5gfd-CzaFOAZRA.jpeg\"></a>\n",
    "\n",
    "\n",
    "- `Welcome to our interactive learning session! In this Jupyter notebook, you'll find a series of questions related to Python Dictionary Comprehension\n",
    " Concept. To maximize your learning, please write Python code in the cell below each question and execute it. This hands-on practice will help reinforce your understanding of the concepts. Feel free to reach out if you have any questions or need assistance. Happy coding! 💻🐍 `"
   ]
  },
  {
   "cell_type": "markdown",
   "id": "db689fc2",
   "metadata": {
    "id": "db689fc2"
   },
   "source": [
    "Question 1: Write a Python program to create a dictionary of squares of numbers from 1 to 10 using dictionary comprehension.\n",
    "\n",
    "- `sample input : `\n",
    "    - `var = 'python java'`\n",
    "- `sample output :`\n",
    "    - `result : 11`"
   ]
  },
  {
   "cell_type": "code",
   "execution_count": 5,
   "id": "c9ce9180",
   "metadata": {
    "id": "c9ce9180",
    "scrolled": true
   },
   "outputs": [
    {
     "name": "stdout",
     "output_type": "stream",
     "text": [
      "{1: 1, 2: 4, 3: 9, 4: 16, 5: 25, 6: 36, 7: 49, 8: 64, 9: 81, 10: 100}\n"
     ]
    }
   ],
   "source": [
    "# Please write The solution Here for above question 1:\n",
    "square_dict = dict()\n",
    "for num in range(1, 11):\n",
    "    square_dict[num] = num*num\n",
    "print(square_dict)"
   ]
  },
  {
   "cell_type": "markdown",
   "id": "46f069cc",
   "metadata": {
    "id": "46f069cc"
   },
   "source": [
    "Question 2: Write a Python program to create a dictionary with keys as numbers from 1 to 10 and values as their squares using dictionary comprehension.\n",
    "\n",
    "\n",
    "\n",
    "\n",
    "1.   List item\n",
    "2.   List item\n",
    "\n",
    "\n",
    "\n",
    "- `sample input : `\n",
    "    - `var = 'python'`\n",
    "- `sample output :`\n",
    "    - `result : nohtyp`"
   ]
  },
  {
   "cell_type": "code",
   "execution_count": null,
   "id": "2cde3dcc",
   "metadata": {
    "id": "2cde3dcc"
   },
   "outputs": [],
   "source": [
    "# Please write The solution Here for above question 2:\n",
    "\n"
   ]
  },
  {
   "cell_type": "markdown",
   "id": "0f3a2ef5",
   "metadata": {
    "id": "0f3a2ef5"
   },
   "source": [
    "Question 3: Write a Python program to create a dictionary with keys as letters from a given string and values as their frequencies using dictionary comprehension.\n",
    "\n",
    "\n",
    "\n",
    "\n",
    "- `sample input : `\n",
    "    - `var = 'NUN'`\n",
    "- `sample output :`\n",
    "    - `result : It is a Palindrome`\n",
    "    \n",
    "- `palindrome concept = https://www.dictionary.com/e/palindromic-word/#:~:text=A%20palindrome%20is%20a%20word,roots%20in%20the%20early%201600s.`"
   ]
  },
  {
   "cell_type": "markdown",
   "id": "98e0fc60",
   "metadata": {
    "id": "98e0fc60"
   },
   "source": [
    "Question 4: Write a Python program to create a dictionary with keys as elements from a given list and values as their lengths using dictionary comprehension `sample input : `\n",
    "    - `var = 'Hello world '`\n",
    "- `sample output :`\n",
    "\n",
    "    - `result : l, because l is repeating 3 times `\n",
    " \n",
    "    - string1=\"Hello world\"\n"
   ]
  },
  {
   "cell_type": "code",
   "execution_count": 30,
   "id": "74b9f01a",
   "metadata": {
    "id": "74b9f01a"
   },
   "outputs": [
    {
     "name": "stdout",
     "output_type": "stream",
     "text": [
      " repeating element : l  repeted times :3\n"
     ]
    }
   ],
   "source": [
    "# Please write The solution Here for above question 3:\n",
    "string1=\"hello world\"\n",
    "list1=[]\n",
    "list2=[]\n",
    "for i in string1:\n",
    "  if i not in list1:\n",
    "    list1.append(i)\n",
    "    import operator\n",
    "    list2.append(operator.countOf(string1,i))\n",
    "occ=max(list2)\n",
    "ele=list1[list2.index(occ)]\n",
    "print(\" repeating element : \" + str(ele) , \" repeted times :\" + str(occ))\n"
   ]
  },
  {
   "cell_type": "markdown",
   "id": "17eb44eb",
   "metadata": {
    "id": "17eb44eb"
   },
   "source": [
    "\n",
    "Question 5: Write a Python program to create a dictionary with keys as numbers from 1 to 10 and values as their even/odd status using dictionary comprehension\n",
    "\n",
    "- `sample input : `\n",
    "    - `var1 = 'listen'`\n",
    "    - `var2 = 'silent'`\n",
    "- `sample output :`\n",
    "    - `result : both are anagram because characters in var2 is in var1`"
   ]
  },
  {
   "cell_type": "code",
   "execution_count": 2,
   "id": "29f0e87e",
   "metadata": {
    "id": "29f0e87e"
   },
   "outputs": [
    {
     "name": "stdin",
     "output_type": "stream",
     "text": [
      "Enter any number:  3\n",
      "Enter any number:  2\n",
      "Enter any number:  4\n"
     ]
    },
    {
     "name": "stdout",
     "output_type": "stream",
     "text": [
      "{'Even': [2, 4], 'Odd': [3]}\n"
     ]
    }
   ],
   "source": [
    "# Please write The solution Here for above question 5:\n",
    "even=[]\n",
    "odd=[]\n",
    "for i in range(3):\n",
    "    n = int(input('Enter any number: '))\n",
    "    if n%2 == 0:\n",
    "        even.append(n)\n",
    "    else:\n",
    "        odd.append(n)\n",
    "        \n",
    "d = {}\n",
    "d['Even']=even\n",
    "d['Odd']=odd\n",
    "print(d)"
   ]
  },
  {
   "cell_type": "markdown",
   "id": "fac17884",
   "metadata": {
    "id": "fac17884"
   },
   "source": [
    "Question 6: Write a Python program to create a dictionary with keys as words from a given sentence and values as their lengths using dictionary comprehension.\n",
    "\n",
    "\n",
    "\n",
    "- `sample input : `\n",
    "    - `var = 'python'`\n",
    "- `sample output :`\n",
    "    - `result : pythn , because vowels are [AEIOUaeiou]`"
   ]
  },
  {
   "cell_type": "code",
   "execution_count": null,
   "id": "f4b33095",
   "metadata": {
    "id": "f4b33095"
   },
   "outputs": [],
   "source": [
    "# Please write The solution Here for above question 6:\n",
    "\n"
   ]
  },
  {
   "cell_type": "markdown",
   "id": "2170d6f4",
   "metadata": {
    "id": "2170d6f4"
   },
   "source": [
    "Question 7: Write a Python program to create a dictionary with keys as letters from the alphabet and values as their ASCII values using dictionary comprehension..\n",
    "\n",
    "- `sample input : `\n",
    "    - `var = 'python is Easy Language'`\n",
    "- `sample output :`\n",
    "    - `result : Language`"
   ]
  },
  {
   "cell_type": "code",
   "execution_count": null,
   "id": "f35de8b3",
   "metadata": {
    "id": "f35de8b3"
   },
   "outputs": [],
   "source": [
    "# Please write The solution Here for above question 7:\n",
    "\n"
   ]
  },
  {
   "cell_type": "markdown",
   "id": "f349bdb7",
   "metadata": {
    "id": "f349bdb7"
   },
   "source": [
    "Question 8: Write a Python program to create a dictionary with keys as numbers from 1 to 10 and values as their factorial using dictionary comprehension.\n",
    "\n",
    "\n",
    "- `sample input : `\n",
    "    - `var = 'python is easy'`\n",
    "- `sample output :`\n",
    "    - `result : Python Is Easy`"
   ]
  },
  {
   "cell_type": "code",
   "execution_count": 10,
   "id": "a1b4c4e6",
   "metadata": {
    "id": "a1b4c4e6"
   },
   "outputs": [
    {
     "name": "stdout",
     "output_type": "stream",
     "text": [
      "{1: 1, 2: 2, 3: 6, 4: 24, 5: 120, 6: 720, 7: 5040, 8: 40320, 9: 362880, 10: 3628800}\n"
     ]
    }
   ],
   "source": [
    ",# Please write The solution Here for above question 8:\n",
    "import math\n",
    "numbers = [1, 2, 3, 4, 5,6,7,8,9,10]\n",
    "factorials = {x: math.factorial(x) for x in numbers}\n",
    "print(factorials)"
   ]
  },
  {
   "cell_type": "markdown",
   "id": "d2770696",
   "metadata": {
    "id": "d2770696"
   },
   "source": [
    "Question 9: Write a Python program to create a dictionary with keys as elements from a given list and values as their counts using dictionary comprehension.\n",
    "\n",
    "\n",
    "\n",
    "- `sample input : `\n",
    "    - `var = 'sharuk khan'`\n",
    "- `sample output :`\n",
    "    - `result : {'s': 1, 'h': 2, 'a': 2, 'r': 1, 'u': 1, 'k': 2, ' ': 2, 'n': 1}`"
   ]
  },
  {
   "cell_type": "code",
   "execution_count": 6,
   "id": "7fdc2e9c",
   "metadata": {
    "id": "7fdc2e9c"
   },
   "outputs": [
    {
     "name": "stdin",
     "output_type": "stream",
     "text": [
      "Enter a string:  sharuk khan\n"
     ]
    },
    {
     "name": "stdout",
     "output_type": "stream",
     "text": [
      "s : 1\n",
      "h : 2\n",
      "a : 2\n",
      "r : 1\n",
      "u : 1\n",
      "k : 2\n",
      "  : 1\n",
      "n : 1\n"
     ]
    }
   ],
   "source": [
    "# Please write The solution Here for above question 9:\n",
    "st = input(\"Enter a string: \")\n",
    "dic = {} #creates an empty dictionary\n",
    "for ch in st:\n",
    " if ch in dic: #if next character is already in the dictionary \n",
    "  dic[ch] += 1\n",
    " else:\n",
    "  dic[ch] = 1 #if ch appears for the first time\n",
    "for key in dic:\n",
    " print(key,':',dic[key])\n",
    "\n"
   ]
  },
  {
   "cell_type": "markdown",
   "id": "5c9a3f09",
   "metadata": {
    "id": "5c9a3f09"
   },
   "source": [
    "Question 10: Write a Python program to create a dictionary with keys as letters from a given string and values as their positions using dictionary comprehension.\n",
    "\n",
    "- `sample input : `\n",
    "    - `var = 'sharuk khan'`\n",
    "- `sample output :`\n",
    "    - `result : 464`\n"
   ]
  }
 ],
 "metadata": {
  "colab": {
   "provenance": []
  },
  "kernelspec": {
   "display_name": "Python 3 (ipykernel)",
   "language": "python",
   "name": "python3"
  },
  "language_info": {
   "codemirror_mode": {
    "name": "ipython",
    "version": 3
   },
   "file_extension": ".py",
   "mimetype": "text/x-python",
   "name": "python",
   "nbconvert_exporter": "python",
   "pygments_lexer": "ipython3",
   "version": "3.11.7"
  }
 },
 "nbformat": 4,
 "nbformat_minor": 5
}
